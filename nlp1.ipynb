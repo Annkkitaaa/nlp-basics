{
 "cells": [
  {
   "cell_type": "code",
   "execution_count": 1,
   "id": "de85d80d-f137-4bfc-9c0b-b9f9e5571f6a",
   "metadata": {},
   "outputs": [],
   "source": [
    "import re "
   ]
  },
  {
   "cell_type": "markdown",
   "id": "a7e70120-d096-41b7-a320-c4c053f68e95",
   "metadata": {},
   "source": [
    "site that we are using :https://regex101.com/"
   ]
  },
  {
   "cell_type": "code",
   "execution_count": 8,
   "id": "342ac09c-5dbf-4c57-91e6-debde3bfbbe2",
   "metadata": {},
   "outputs": [],
   "source": [
    "chat1 = 'codebasics:you ask a lot of questions 1235678912,abc@xyz.com'\n",
    "chat2 = 'codebasics: here it is :(123)-567-8912, abc@xyx.com'\n",
    "chat3 = 'codebasics: yes, phone: 1235678912 email: abc@xyx.com'"
   ]
  },
  {
   "cell_type": "code",
   "execution_count": 14,
   "id": "02b4e60b-03db-4b0b-a870-22e52af71840",
   "metadata": {},
   "outputs": [],
   "source": [
    "\n",
    "pattern1 = r'\\d{10}|\\(\\d{3}\\)-\\d{3}-\\d{4}'\n",
    "matches1 = re.findall(pattern1, chat2)"
   ]
  },
  {
   "cell_type": "code",
   "execution_count": 15,
   "id": "70382e29-35d9-493c-ae44-f7c41c099feb",
   "metadata": {},
   "outputs": [
    {
     "data": {
      "text/plain": [
       "['(123)-567-8912']"
      ]
     },
     "execution_count": 15,
     "metadata": {},
     "output_type": "execute_result"
    }
   ],
   "source": [
    "matches1"
   ]
  },
  {
   "cell_type": "code",
   "execution_count": 16,
   "id": "cdc0f4ea-fe74-4e1d-992d-8a11b54565bc",
   "metadata": {},
   "outputs": [],
   "source": [
    "pattern2='[a-z0-9A-Z_]*@[a-z0-9A-Z]*\\.[a-zA-Z]*'"
   ]
  },
  {
   "cell_type": "code",
   "execution_count": 19,
   "id": "f0710ec8-8966-4c9d-b59f-8d3c0b83610c",
   "metadata": {},
   "outputs": [],
   "source": [
    "matches2 = re.findall(pattern2, chat2)"
   ]
  },
  {
   "cell_type": "code",
   "execution_count": 20,
   "id": "1dccdf7d-7149-49d4-add7-7e01c824f39e",
   "metadata": {},
   "outputs": [
    {
     "data": {
      "text/plain": [
       "['abc@xyx.com']"
      ]
     },
     "execution_count": 20,
     "metadata": {},
     "output_type": "execute_result"
    }
   ],
   "source": [
    "matches2"
   ]
  },
  {
   "cell_type": "code",
   "execution_count": null,
   "id": "e4eb1273-49d4-4eac-b725-f0b9f0535a5f",
   "metadata": {},
   "outputs": [],
   "source": []
  }
 ],
 "metadata": {
  "kernelspec": {
   "display_name": "Python 3 (ipykernel)",
   "language": "python",
   "name": "python3"
  },
  "language_info": {
   "codemirror_mode": {
    "name": "ipython",
    "version": 3
   },
   "file_extension": ".py",
   "mimetype": "text/x-python",
   "name": "python",
   "nbconvert_exporter": "python",
   "pygments_lexer": "ipython3",
   "version": "3.11.7"
  }
 },
 "nbformat": 4,
 "nbformat_minor": 5
}
